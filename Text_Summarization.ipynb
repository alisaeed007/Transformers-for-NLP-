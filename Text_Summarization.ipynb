{
  "nbformat": 4,
  "nbformat_minor": 0,
  "metadata": {
    "colab": {
      "provenance": []
    },
    "kernelspec": {
      "name": "python3",
      "display_name": "Python 3"
    },
    "language_info": {
      "name": "python"
    }
  },
  "cells": [
    {
      "cell_type": "code",
      "execution_count": 1,
      "metadata": {
        "colab": {
          "base_uri": "https://localhost:8080/"
        },
        "id": "BvA6zNWO7Mh9",
        "outputId": "6fba88bb-74ff-4ad4-ecda-07e26380e835"
      },
      "outputs": [
        {
          "output_type": "stream",
          "name": "stdout",
          "text": [
            "\u001b[2K     \u001b[90m━━━━━━━━━━━━━━━━━━━━━━━━━━━━━━━━━━━━━━━━\u001b[0m \u001b[32m7.2/7.2 MB\u001b[0m \u001b[31m54.7 MB/s\u001b[0m eta \u001b[36m0:00:00\u001b[0m\n",
            "\u001b[2K     \u001b[90m━━━━━━━━━━━━━━━━━━━━━━━━━━━━━━━━━━━━━━\u001b[0m \u001b[32m236.8/236.8 kB\u001b[0m \u001b[31m18.9 MB/s\u001b[0m eta \u001b[36m0:00:00\u001b[0m\n",
            "\u001b[2K     \u001b[90m━━━━━━━━━━━━━━━━━━━━━━━━━━━━━━━━━━━━━━━━\u001b[0m \u001b[32m7.8/7.8 MB\u001b[0m \u001b[31m84.9 MB/s\u001b[0m eta \u001b[36m0:00:00\u001b[0m\n",
            "\u001b[2K     \u001b[90m━━━━━━━━━━━━━━━━━━━━━━━━━━━━━━━━━━━━━━━━\u001b[0m \u001b[32m1.3/1.3 MB\u001b[0m \u001b[31m58.0 MB/s\u001b[0m eta \u001b[36m0:00:00\u001b[0m\n",
            "\u001b[?25h"
          ]
        }
      ],
      "source": [
        "!pip install -q transformers"
      ]
    },
    {
      "cell_type": "code",
      "source": [
        "from transformers import pipeline\n",
        "\n",
        "summarizer = pipeline(\"summarization\",\"sshleifer/distilbart-cnn-12-6\")\n",
        "\n",
        "ARTICLE = \"Quaid-e-Azam Muhammad Ali Jinnah was the founder of Pakistan. He was born on December 25, 1876, in Karachi, British India. He studied law in England and then returned to India to practice law. He became involved in politics and was elected to the Indian National Congress. However, he later broke away from the Congress and founded the All-India Muslim League. He led the Muslim League in its struggle for a separate homeland for Muslims in India. In 1947, Pakistan was created and Jinnah became its first governor-general. He died on September 11, 1948.\";\n",
        "print(summarizer(ARTICLE, max_length=120, min_length=30, do_sample=False))"
      ],
      "metadata": {
        "colab": {
          "base_uri": "https://localhost:8080/"
        },
        "id": "gav-FLdZ7ZuE",
        "outputId": "7259e386-a916-481c-8d6a-e10cea74b4a8"
      },
      "execution_count": 6,
      "outputs": [
        {
          "output_type": "stream",
          "name": "stdout",
          "text": [
            "[{'summary_text': ' Quaid-e-Azam Muhammad Ali Jinnah was born on December 25, 1876, in Karachi, India . He studied law in England and then returned to India to practice law . He became involved in politics and was elected to the Indian National Congress . He later broke away from Congress and founded the All-India Muslim League .'}]\n"
          ]
        }
      ]
    }
  ]
}