{
  "nbformat": 4,
  "nbformat_minor": 0,
  "metadata": {
    "colab": {
      "provenance": []
    },
    "kernelspec": {
      "name": "python3",
      "display_name": "Python 3"
    },
    "language_info": {
      "name": "python"
    }
  },
  "cells": [
    {
      "cell_type": "code",
      "source": [
        "!pip install -q transformers"
      ],
      "metadata": {
        "colab": {
          "base_uri": "https://localhost:8080/"
        },
        "id": "mqcHKYFX7gnJ",
        "outputId": "a3113e82-6548-48da-c6a8-86f63eacf61c"
      },
      "execution_count": null,
      "outputs": [
        {
          "output_type": "stream",
          "name": "stdout",
          "text": [
            "\u001b[2K     \u001b[90m━━━━━━━━━━━━━━━━━━━━━━━━━━━━━━━━━━━━━━━━\u001b[0m \u001b[32m7.2/7.2 MB\u001b[0m \u001b[31m46.6 MB/s\u001b[0m eta \u001b[36m0:00:00\u001b[0m\n",
            "\u001b[2K     \u001b[90m━━━━━━━━━━━━━━━━━━━━━━━━━━━━━━━━━━━━━━\u001b[0m \u001b[32m236.8/236.8 kB\u001b[0m \u001b[31m19.6 MB/s\u001b[0m eta \u001b[36m0:00:00\u001b[0m\n",
            "\u001b[2K     \u001b[90m━━━━━━━━━━━━━━━━━━━━━━━━━━━━━━━━━━━━━━━━\u001b[0m \u001b[32m7.8/7.8 MB\u001b[0m \u001b[31m94.0 MB/s\u001b[0m eta \u001b[36m0:00:00\u001b[0m\n",
            "\u001b[2K     \u001b[90m━━━━━━━━━━━━━━━━━━━━━━━━━━━━━━━━━━━━━━━━\u001b[0m \u001b[32m1.3/1.3 MB\u001b[0m \u001b[31m60.1 MB/s\u001b[0m eta \u001b[36m0:00:00\u001b[0m\n",
            "\u001b[?25h"
          ]
        }
      ]
    },
    {
      "cell_type": "code",
      "execution_count": null,
      "metadata": {
        "colab": {
          "base_uri": "https://localhost:8080/"
        },
        "id": "B2qNjBkx7XYR",
        "outputId": "06243f6c-f278-4d11-d93a-add20317f17f"
      },
      "outputs": [
        {
          "output_type": "execute_result",
          "data": {
            "text/plain": [
              "{'score': 0.46362367272377014,\n",
              " 'start': 17,\n",
              " 'end': 29,\n",
              " 'answer': 'Great Leader'}"
            ]
          },
          "metadata": {},
          "execution_count": 7
        }
      ],
      "source": [
        "from transformers import pipeline\n",
        "\n",
        "qa_model = pipeline(\"question-answering\", model=\"distilbert-base-cased-distilled-squad\")\n",
        "question = \"who is Quaid-e-Azam\"\n",
        "context = \"Quaid-e-Azam, or Great Leader, is a title bestowed upon Muhammad Ali Jinnah, the founding father of Pakistan. He was born on December 25, 1876, in Karachi, which was then part of British India. Jinnah's unwavering determination, political acumen, and staunch advocacy for a separate homeland for Muslims in the subcontinent led to the creation of Pakistan on August 14, 1947. His vision for a democratic and inclusive state, where all citizens could practice their faith freely, continues to shape the nation's identity. Quaid-e-Azam's tireless efforts and negotiations with the British government paved the way for the independence of Pakistan. Even after becoming the first Governor-General of the country, he remained committed to the principles of justice, equality, and religious freedom. Quaid-e-Azam's unwavering commitment to the welfare of the people and his statesmanship continue to inspire generations, making him an icon of leadership and a symbol of hope for the nation.\"\n",
        "qa_model(question = question, context = context)"
      ]
    }
  ]
}